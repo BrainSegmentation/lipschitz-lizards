{
 "cells": [
  {
   "cell_type": "code",
   "execution_count": 72,
   "metadata": {},
   "outputs": [],
   "source": [
    "import json\n",
    "import os"
   ]
  },
  {
   "cell_type": "code",
   "execution_count": 73,
   "metadata": {},
   "outputs": [],
   "source": [
    "file = open(\"silicon_wafer_1/source_sections_mag.txt\", 'r')\n",
    "file2 = open(\"silicon_wafer_1/source_sections_tissue.txt\")"
   ]
  },
  {
   "cell_type": "code",
   "execution_count": 74,
   "metadata": {},
   "outputs": [],
   "source": [
    "lines = file.readlines()\n",
    "lines2 = file2.readlines()"
   ]
  },
  {
   "cell_type": "code",
   "execution_count": 75,
   "metadata": {},
   "outputs": [
    {
     "name": "stdout",
     "output_type": "stream",
     "text": [
      "6785,3094\t6724,2937\t7103,2812\t7120,2965\t\n",
      "\n"
     ]
    }
   ],
   "source": [
    "print(lines2[0])"
   ]
  },
  {
   "cell_type": "code",
   "execution_count": 76,
   "metadata": {},
   "outputs": [],
   "source": [
    "f= open(\"source_sections.json\", \"w+\")\n",
    "\n",
    "f.write(\"{\\n\")\n",
    "f.write('\\\"imagePath\\\": \\\"wafer_1_downsize_3.tif\\\",\\n')\n",
    "f.write('\\\"shapes\\\": [\\n')\n",
    "f.write('    {\\n')\n",
    "f.write('      \\\"line_color\\\": null,\\n')\n",
    "f.write('\\\"points\\\": [\\n')\n",
    "line = lines[0]\n",
    "line = line.split('\\t')[0:-1]\n",
    "for coord in line[0:-1]:\n",
    "    coords = coord.split(\",\")\n",
    "    f.write(\"\\t[\\n\")\n",
    "    f.write(\"\\t    \" + str(int(coords[0]) / 3) + \",\\n\")\n",
    "    f.write(\"\\t    \" + str(int(coords[1]) / 3))\n",
    "    f.write(\"\\t],\\n\")\n",
    "coord = line[-1].split(\",\")\n",
    "f.write(\"\\t[\\n\")\n",
    "f.write(\"\\t    \" + str(int(coord[0]) / 3) + \",\\n\")\n",
    "f.write(\"\\t    \" + str(int(coord[1]) / 3))\n",
    "f.write(\"\\t]\\n\")\n",
    "f.write(\"],\\n\")\n",
    "f.write(\"\\\"fill_color\\\": null,\\n\")\n",
    "f.write(\"\\\"label\\\": \\\"magnet-1\\\"\\n\")\n",
    "f.write(\"}\")\n",
    "\n",
    "for i in range(1, len(lines)):\n",
    "    line = lines[i]\n",
    "    f.write(\",\\n\")\n",
    "    f.write('    {\\n')\n",
    "    f.write('      \\\"line_color\\\": null,\\n')\n",
    "    f.write('\\\"points\\\": [\\n')\n",
    "    line = line.split('\\t')[0:-1]\n",
    "    for coord in line[0:-1]:\n",
    "        coords = coord.split(\",\")\n",
    "        f.write(\"\\t[\\n\")\n",
    "        f.write(\"\\t    \" + str(int(coords[0]) / 3) + \",\\n\")\n",
    "        f.write(\"\\t    \" + str(int(coords[1]) / 3))\n",
    "        f.write(\"\\t],\\n\")\n",
    "    coord = line[-1].split(\",\")\n",
    "    f.write(\"\\t[\\n\")\n",
    "    f.write(\"\\t    \" + str(int(coord[0]) / 3) + \",\\n\")\n",
    "    f.write(\"\\t    \" + str(int(coord[1]) / 3))\n",
    "    f.write(\"\\t]\\n\")\n",
    "    f.write(\"],\\n\")\n",
    "    f.write(\"\\\"fill_color\\\": null,\\n\")\n",
    "    f.write(\"\\\"label\\\": \\\"magnet-\" + str(i + 1) + \"\\\"\\n\")\n",
    "    f.write(\"}\")\n",
    "\n",
    "for i in range(len(lines2)):\n",
    "    line = lines2[i]\n",
    "    f.write(\",\\n\")\n",
    "    f.write('    {\\n')\n",
    "    f.write('      \\\"line_color\\\": null,\\n')\n",
    "    f.write('\\\"points\\\": [\\n')\n",
    "    line = line.split('\\t')[0:-1]\n",
    "    for coord in line[0:-1]:\n",
    "        coords = coord.split(\",\")\n",
    "        f.write(\"\\t[\\n\")\n",
    "        f.write(\"\\t    \" + str(int(coords[0]) / 3) + \",\\n\")\n",
    "        f.write(\"\\t    \" + str(int(coords[1]) / 3))\n",
    "        f.write(\"\\t],\\n\")\n",
    "    coord = line[-1].split(\",\")\n",
    "    f.write(\"\\t[\\n\")\n",
    "    f.write(\"\\t    \" + str(int(coord[0]) / 3) + \",\\n\")\n",
    "    f.write(\"\\t    \" + str(int(coord[1]) / 3))\n",
    "    f.write(\"\\t]\\n\")\n",
    "    f.write(\"],\\n\")\n",
    "    f.write(\"\\\"fill_color\\\": null,\\n\")\n",
    "    f.write(\"\\\"label\\\": \\\"tissue-\" + str(i + 1) + \"\\\"\\n\")\n",
    "    f.write(\"}\")\n",
    "\n",
    "f.write(\"],\\n\")\n",
    "f.write('\\\"imageData\\\": null,\\n')\n",
    "f.write(\"\\\"lineColor\\\": [\\n\")\n",
    "f.write(\"0, 255, 0, 128 ],\\n\")\n",
    "f.write(\"\\\"fillColor\\\": [\\n\")\n",
    "f.write(\"\"\"    255,\n",
    "    0,\n",
    "    0,\n",
    "    128\n",
    "  ]\n",
    "}\"\"\")\n",
    "f.close()"
   ]
  },
  {
   "cell_type": "code",
   "execution_count": null,
   "metadata": {},
   "outputs": [],
   "source": []
  }
 ],
 "metadata": {
  "kernelspec": {
   "display_name": "Python 3",
   "language": "python",
   "name": "python3"
  },
  "language_info": {
   "codemirror_mode": {
    "name": "ipython",
    "version": 3
   },
   "file_extension": ".py",
   "mimetype": "text/x-python",
   "name": "python",
   "nbconvert_exporter": "python",
   "pygments_lexer": "ipython3",
   "version": "3.6.6"
  }
 },
 "nbformat": 4,
 "nbformat_minor": 2
}
